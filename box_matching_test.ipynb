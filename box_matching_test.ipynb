{
 "cells": [
  {
   "cell_type": "markdown",
   "metadata": {},
   "source": [
    "# Box matching test\n",
    "\n",
    "We match example \"default boxes\" with \"ground truth boxes\", and calculate matches"
   ]
  },
  {
   "cell_type": "markdown",
   "metadata": {},
   "source": [
    "## Imports"
   ]
  },
  {
   "cell_type": "code",
   "execution_count": 1,
   "metadata": {},
   "outputs": [],
   "source": [
    "import pandas as pd\n",
    "import numpy as np\n",
    "from sklearn.preprocessing import OneHotEncoder\n",
    "np.random.seed(seed=0)\n",
    "\n",
    "from utils import iou"
   ]
  },
  {
   "cell_type": "markdown",
   "metadata": {},
   "source": [
    "## Constants"
   ]
  },
  {
   "cell_type": "code",
   "execution_count": 2,
   "metadata": {},
   "outputs": [],
   "source": [
    "IOU_THRESHOLD = 0.5\n",
    "BATCH_SIZE = 2\n",
    "NUM_PRIORS = 2\n",
    "NUM_GTS = 2\n",
    "NUM_FRAMES = 2"
   ]
  },
  {
   "cell_type": "markdown",
   "metadata": {},
   "source": [
    "## Single frame case"
   ]
  },
  {
   "cell_type": "code",
   "execution_count": null,
   "metadata": {},
   "outputs": [],
   "source": [
    "priors_arr = np.array([[1.0, 1.0, 2.0, 2.0], [0.0, 0.0, -1.0, -1.0], [0.0, 0.0, 2.0, 1.5], [0.0, 0.0, 1.5, 2.0], [0.0, 0.0, 0.5, 0.5], [2.5, 2.5, 3.0, 3.0]])\n",
    "gts_arr = np.array([[0.0, 0.0, 2.0, 2.0], [2.0, 2.0, 3.0, 3.0]])\n",
    "\n",
    "\n",
    "priors = pd.DataFrame(priors_arr, columns=['x0', 'y0', 'x1', 'y1'])\n",
    "priors['prior_id'] = range(len(priors))\n",
    "#priors['class'] = [1, 0, 1, 0, 1, 0]\n",
    "#priors['logits'] = [[0, 1], [1, 0], [0, 1], [0, 1], [0, 1], [1, 0]]\n",
    "priors['temp'] = True\n",
    "\n",
    "ground_truth_boxes = pd.DataFrame(gts_arr, columns=['x0', 'y0', 'x1', 'y1'])\n",
    "ground_truth_boxes['gt_id'] = range(len(gts))\n",
    "#ground_truth_boxes['class'] = [1, 0]\n",
    "ground_truth_boxes['temp'] = True"
   ]
  },
  {
   "cell_type": "markdown",
   "metadata": {},
   "source": [
    "### Calculate matches"
   ]
  },
  {
   "cell_type": "code",
   "execution_count": null,
   "metadata": {},
   "outputs": [],
   "source": [
    "associations = pd.merge(priors, ground_truth_boxes, how='outer', suffixes=('_prior', '_gt'), on='temp')\n",
    "associations = associations.drop(columns=['temp'])\n",
    "associations['iou'] = iou(associations)\n",
    "#associations['match'] = (associations['iou'] > IOU_THRESHOLD) & (associations['class_prior'] == associations['class_gt'])"
   ]
  },
  {
   "cell_type": "markdown",
   "metadata": {},
   "source": [
    "### Select priors for ground truth box(es) with highest overlap"
   ]
  },
  {
   "cell_type": "code",
   "execution_count": null,
   "metadata": {},
   "outputs": [],
   "source": [
    "best_priors = associations.iloc[associations.groupby('prior_id').apply(lambda g: g.iou.idxmax())]"
   ]
  },
  {
   "cell_type": "markdown",
   "metadata": {},
   "source": [
    "### Hard negative mining"
   ]
  },
  {
   "cell_type": "code",
   "execution_count": null,
   "metadata": {},
   "outputs": [],
   "source": [
    "TODO"
   ]
  },
  {
   "cell_type": "markdown",
   "metadata": {},
   "source": [
    "## Batch case"
   ]
  },
  {
   "cell_type": "code",
   "execution_count": null,
   "metadata": {},
   "outputs": [],
   "source": [
    "# TODO: create actual ground truth boxes, \n",
    "\n",
    "priors_arr = np.random.random_sample((BATCH_SIZE * NUM_PRIORS, 4))\n",
    "priors = pd.DataFrame(priors_arr, columns=['x0', 'y0', 'x1', 'y1'])\n",
    "\n",
    "\n",
    "for i in range(NUM_FRAMES):\n",
    "    priors.loc[priors.index[i*NUM_PRIORS:(i+1)*NUM_PRIORS], 'frame_id'] = i\n",
    "    priors.loc[priors.index[i*NUM_PRIORS:(i+1)*NUM_PRIORS], 'prior_id'] = range(NUM_PRIORS)\n",
    "\n",
    "\n",
    "#gts_arr = np.random.sample((BATCH_SIZE * NUM_GTS, 4))\n",
    "ground_truth_boxes = pd.DataFrame(priors_arr, columns=['x0', 'y0', 'x1', 'y1'])\n",
    "\n",
    "\n",
    "for i in range(NUM_FRAMES):\n",
    "    ground_truth_boxes.loc[ground_truth_boxes.index[i*NUM_GTS:(i+1)*NUM_GTS], 'frame_id'] = i\n",
    "    ground_truth_boxes.loc[ground_truth_boxes.index[i*NUM_GTS:(i+1)*NUM_GTS], 'gt_id'] = range(NUM_GTS)\n"
   ]
  },
  {
   "cell_type": "code",
   "execution_count": null,
   "metadata": {},
   "outputs": [],
   "source": [
    "associations = pd.merge(priors, ground_truth_boxes, how='outer', suffixes=('_prior', '_gt'), on='frame_id')\n",
    "associations['iou'] = iou(associations)"
   ]
  },
  {
   "cell_type": "markdown",
   "metadata": {},
   "source": [
    "## Real data case\n",
    "TODO"
   ]
  },
  {
   "cell_type": "code",
   "execution_count": null,
   "metadata": {},
   "outputs": [],
   "source": []
  },
  {
   "cell_type": "markdown",
   "metadata": {},
   "source": [
    "## Non-maximum suppression\n",
    "This happes after predictions are done with the model. Only the best prediction for each gt box remains."
   ]
  },
  {
   "cell_type": "code",
   "execution_count": 3,
   "metadata": {},
   "outputs": [],
   "source": [
    "def array_to_df(arr, classes, arr_type):\n",
    "    assert(arr_type in ['prior', 'prediction', 'gt'])\n",
    "    df = pd.DataFrame(arr.reshape((BATCH_SIZE * NUM_PRIORS, 4)), columns=['x0', 'y0', 'x1', 'y1'])\n",
    "\n",
    "    for i in range(NUM_FRAMES):\n",
    "        df.loc[df.index[i*NUM_PRIORS:(i+1)*NUM_PRIORS], 'frame_id'] = i\n",
    "        df.loc[df.index[i*NUM_PRIORS:(i+1)*NUM_PRIORS], arr_type + '_id'] = range(NUM_PRIORS)\n",
    "\n",
    "    df['class_' + arr_type] = classes.argmax(axis=1)\n",
    "    return df\n",
    "\n",
    "\n",
    "def get_associations(box_predictions_arr, class_predictions, box_gts_arr, class_gts):\n",
    "    pred_type = 'prediction'\n",
    "    gt_type = 'gt'\n",
    "    \n",
    "    prediction_df = array_to_df(box_predictions_arr, class_predictions, pred_type)\n",
    "\n",
    "    gt_df = array_to_df(box_gts_arr, class_gts, gt_type)\n",
    "\n",
    "    associations = pd.merge(prediction_df, gt_df, how='outer', suffixes=('_' + pred_type, '_' + gt_type), on='frame_id')\n",
    "    associations['iou'] = iou(associations)\n",
    "    associations['match'] = (associations['iou'] > IOU_THRESHOLD) & (associations['class_' + pred_type] == associations['class_' + gt_type])\n",
    "    return associations"
   ]
  },
  {
   "cell_type": "code",
   "execution_count": 4,
   "metadata": {},
   "outputs": [
    {
     "name": "stderr",
     "output_type": "stream",
     "text": [
      "/home/CW01/uib10737/anaconda3/envs/py36/lib/python3.6/site-packages/sklearn/preprocessing/_encoders.py:368: FutureWarning: The handling of integer data will change in version 0.22. Currently, the categories are determined based on the range [0, max(values)], while in the future they will be determined based on the unique values.\n",
      "If you want the future behaviour and silence this warning, you can specify \"categories='auto'\".\n",
      "In case you used a LabelEncoder before this OneHotEncoder to convert the categories to integers, then you can now use the OneHotEncoder directly.\n",
      "  warnings.warn(msg, FutureWarning)\n"
     ]
    }
   ],
   "source": [
    "NUM_CLASSES = 3\n",
    "\n",
    "ohe = OneHotEncoder()\n",
    "ohe.fit(np.array(range(NUM_CLASSES)).reshape(-1, 1))\n",
    "\n",
    "box_predictions = np.random.random_sample((BATCH_SIZE, NUM_GTS, 4))\n",
    "class_predictions = ohe.transform(np.random.randint(NUM_CLASSES, size=(BATCH_SIZE, NUM_PRIORS)).reshape((-1, 1))).toarray()\n",
    "box_gts = box_predictions\n",
    "class_gts = class_predictions\n",
    "\n",
    "associations = get_associations(box_predictions, class_predictions, box_gts, class_gts)\n",
    "\n",
    "# Find best matching prediction to single gt\n",
    "associations.iloc[associations[associations['frame_id'] == 0].groupby('gt_id').apply(lambda f: f.iou.idxmax())]\n",
    "\n",
    "# TODO: do this to all gts"
   ]
  },
  {
   "cell_type": "code",
   "execution_count": null,
   "metadata": {},
   "outputs": [],
   "source": []
  }
 ],
 "metadata": {
  "kernelspec": {
   "display_name": "Python 3",
   "language": "python",
   "name": "python3"
  },
  "language_info": {
   "codemirror_mode": {
    "name": "ipython",
    "version": 3
   },
   "file_extension": ".py",
   "mimetype": "text/x-python",
   "name": "python",
   "nbconvert_exporter": "python",
   "pygments_lexer": "ipython3",
   "version": "3.6.8"
  }
 },
 "nbformat": 4,
 "nbformat_minor": 2
}
