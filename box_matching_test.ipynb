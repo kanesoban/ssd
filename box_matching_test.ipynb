{
 "cells": [
  {
   "cell_type": "markdown",
   "metadata": {},
   "source": [
    "# Box matching test\n",
    "\n",
    "We match example \"default boxes\" with \"ground truth boxes\", and calculate matches"
   ]
  },
  {
   "cell_type": "markdown",
   "metadata": {},
   "source": [
    "## Imports"
   ]
  },
  {
   "cell_type": "code",
   "execution_count": 23,
   "metadata": {},
   "outputs": [],
   "source": [
    "import pandas as pd\n",
    "import numpy as np\n",
    "np.random.seed(seed=0)\n",
    "\n",
    "from utils import iou"
   ]
  },
  {
   "cell_type": "markdown",
   "metadata": {},
   "source": [
    "## Constants"
   ]
  },
  {
   "cell_type": "code",
   "execution_count": 42,
   "metadata": {},
   "outputs": [],
   "source": [
    "IOU_THRESHOLD = 0.5"
   ]
  },
  {
   "cell_type": "markdown",
   "metadata": {},
   "source": [
    "## Single frame case"
   ]
  },
  {
   "cell_type": "code",
   "execution_count": 12,
   "metadata": {},
   "outputs": [],
   "source": [
    "priors_arr = np.array([[1.0, 1.0, 2.0, 2.0], [0.0, 0.0, -1.0, -1.0], [0.0, 0.0, 2.0, 1.5], [0.0, 0.0, 1.5, 2.0], [0.0, 0.0, 0.5, 0.5], [2.5, 2.5, 3.0, 3.0]])\n",
    "gts_arr = np.array([[0.0, 0.0, 2.0, 2.0], [2.0, 2.0, 3.0, 3.0]])\n",
    "\n",
    "\n",
    "priors = pd.DataFrame(priors_arr, columns=['x0', 'y0', 'x1', 'y1'])\n",
    "priors['prior_id'] = range(len(priors))\n",
    "#priors['class'] = [1, 0, 1, 0, 1, 0]\n",
    "#priors['logits'] = [[0, 1], [1, 0], [0, 1], [0, 1], [0, 1], [1, 0]]\n",
    "priors['temp'] = True\n",
    "\n",
    "ground_truth_boxes = pd.DataFrame(gts_arr, columns=['x0', 'y0', 'x1', 'y1'])\n",
    "ground_truth_boxes['gt_id'] = range(len(gts))\n",
    "#ground_truth_boxes['class'] = [1, 0]\n",
    "ground_truth_boxes['temp'] = True"
   ]
  },
  {
   "cell_type": "markdown",
   "metadata": {},
   "source": [
    "### Calculate matches"
   ]
  },
  {
   "cell_type": "code",
   "execution_count": 22,
   "metadata": {},
   "outputs": [],
   "source": [
    "associations = pd.merge(priors, ground_truth_boxes, how='outer', suffixes=('_prior', '_gt'), on='temp')\n",
    "associations = associations.drop(columns=['temp'])\n",
    "associations['iou'] = iou(associations)\n",
    "#associations['match'] = (associations['iou'] > IOU_THRESHOLD) & (associations['class_prior'] == associations['class_gt'])"
   ]
  },
  {
   "cell_type": "markdown",
   "metadata": {},
   "source": [
    "### Select priors for ground truth box(es) with highest overlap"
   ]
  },
  {
   "cell_type": "code",
   "execution_count": 14,
   "metadata": {},
   "outputs": [],
   "source": [
    "best_priors = associations.iloc[associations.groupby('prior_id').apply(lambda g: g.iou.idxmax())]"
   ]
  },
  {
   "cell_type": "markdown",
   "metadata": {},
   "source": [
    "### Hard negative mining"
   ]
  },
  {
   "cell_type": "code",
   "execution_count": 24,
   "metadata": {},
   "outputs": [
    {
     "ename": "NameError",
     "evalue": "name 'TODO' is not defined",
     "output_type": "error",
     "traceback": [
      "\u001b[0;31m---------------------------------------------------------------------------\u001b[0m",
      "\u001b[0;31mNameError\u001b[0m                                 Traceback (most recent call last)",
      "\u001b[0;32m<ipython-input-24-2494f9b4f745>\u001b[0m in \u001b[0;36m<module>\u001b[0;34m()\u001b[0m\n\u001b[0;32m----> 1\u001b[0;31m \u001b[0mTODO\u001b[0m\u001b[0;34m\u001b[0m\u001b[0;34m\u001b[0m\u001b[0m\n\u001b[0m",
      "\u001b[0;31mNameError\u001b[0m: name 'TODO' is not defined"
     ]
    }
   ],
   "source": [
    "TODO"
   ]
  },
  {
   "cell_type": "markdown",
   "metadata": {},
   "source": [
    "## Batch case"
   ]
  },
  {
   "cell_type": "code",
   "execution_count": 70,
   "metadata": {},
   "outputs": [],
   "source": [
    "# TODO: create actual ground truth boxes, \n",
    "\n",
    "NUM_PRIORS = 2\n",
    "#NUM_GTS = 2\n",
    "NUM_FRAMES = 2\n",
    "\n",
    "priors_arr = np.random.random_sample((BATCH_SIZE * NUM_PRIORS, 4))\n",
    "priors = pd.DataFrame(priors_arr, columns=['x0', 'y0', 'x1', 'y1'])\n",
    "\n",
    "\n",
    "for i in range(NUM_FRAMES):\n",
    "    priors.loc[priors.index[i*NUM_PRIORS:(i+1)*NUM_PRIORS], 'frame_id'] = i\n",
    "    priors.loc[priors.index[i*NUM_PRIORS:(i+1)*NUM_PRIORS], 'prior_id'] = range(NUM_PRIORS)\n",
    "\n",
    "\n",
    "gts_arr = np.random.sample((BATCH_SIZE * NUM_GTS, 4))\n",
    "ground_truth_boxes = pd.DataFrame(priors_arr, columns=['x0', 'y0', 'x1', 'y1'])\n",
    "\n",
    "\n",
    "for i in range(NUM_FRAMES):\n",
    "    ground_truth_boxes.loc[ground_truth_boxes.index[i*NUM_GTS:(i+1)*NUM_GTS], 'frame_id'] = i\n",
    "    ground_truth_boxes.loc[ground_truth_boxes.index[i*NUM_GTS:(i+1)*NUM_GTS], 'gt_id'] = range(NUM_GTS)\n"
   ]
  },
  {
   "cell_type": "code",
   "execution_count": 71,
   "metadata": {},
   "outputs": [],
   "source": [
    "associations = pd.merge(priors, ground_truth_boxes, how='outer', suffixes=('_prior', '_gt'), on='frame_id')\n",
    "associations['iou'] = iou(associations)"
   ]
  },
  {
   "cell_type": "markdown",
   "metadata": {},
   "source": [
    "## Real data case\n",
    "TODO"
   ]
  },
  {
   "cell_type": "code",
   "execution_count": null,
   "metadata": {},
   "outputs": [],
   "source": []
  }
 ],
 "metadata": {
  "kernelspec": {
   "display_name": "Python 3",
   "language": "python",
   "name": "python3"
  },
  "language_info": {
   "codemirror_mode": {
    "name": "ipython",
    "version": 3
   },
   "file_extension": ".py",
   "mimetype": "text/x-python",
   "name": "python",
   "nbconvert_exporter": "python",
   "pygments_lexer": "ipython3",
   "version": "3.6.8"
  }
 },
 "nbformat": 4,
 "nbformat_minor": 2
}
