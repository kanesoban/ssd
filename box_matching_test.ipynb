{
 "cells": [
  {
   "cell_type": "markdown",
   "metadata": {},
   "source": [
    "# Box matching test\n",
    "(single frame)"
   ]
  },
  {
   "cell_type": "markdown",
   "metadata": {},
   "source": [
    "## Imports"
   ]
  },
  {
   "cell_type": "code",
   "execution_count": 1,
   "metadata": {},
   "outputs": [],
   "source": [
    "import pandas as pd\n",
    "import numpy as np\n",
    "np.random.seed(seed=0)"
   ]
  },
  {
   "cell_type": "markdown",
   "metadata": {},
   "source": [
    "## Constants"
   ]
  },
  {
   "cell_type": "code",
   "execution_count": 2,
   "metadata": {},
   "outputs": [],
   "source": [
    "NUM_PRIORS = 100\n",
    "NUM_GT = 10"
   ]
  },
  {
   "cell_type": "markdown",
   "metadata": {},
   "source": [
    "## Utility functions"
   ]
  },
  {
   "cell_type": "code",
   "execution_count": 44,
   "metadata": {},
   "outputs": [],
   "source": [
    "# IoU for numpy arrays\n",
    "def batch_iou(a, b, epsilon=1e-8):\n",
    "    # COORDINATES OF THE INTERSECTION BOXES\n",
    "    x1 = np.array([a[:, 0], b[:, 0]]).max(axis=0)\n",
    "    y1 = np.array([a[:, 1], b[:, 1]]).max(axis=0)\n",
    "    x2 = np.array([a[:, 2], b[:, 2]]).min(axis=0)\n",
    "    y2 = np.array([a[:, 3], b[:, 3]]).min(axis=0)\n",
    "\n",
    "    # AREAS OF OVERLAP - Area where the boxes intersect\n",
    "    width = (x2 - x1)\n",
    "    height = (y2 - y1)\n",
    "\n",
    "    # handle case where there is NO overlap\n",
    "    width[width < 0] = 0\n",
    "    height[height < 0] = 0\n",
    "\n",
    "    area_overlap = width * height\n",
    "\n",
    "    # COMBINED AREAS\n",
    "    area_a = (a[:, 2] - a[:, 0]) * (a[:, 3] - a[:, 1])\n",
    "    area_b = (b[:, 2] - b[:, 0]) * (b[:, 3] - b[:, 1])\n",
    "    area_combined = area_a + area_b - area_overlap\n",
    "\n",
    "    # RATIO OF AREA OF OVERLAP OVER COMBINED AREA\n",
    "    iou = area_overlap / (area_combined + epsilon)\n",
    "    return iou\n",
    "\n",
    "# IoU for pandas DataFrame\n",
    "def iou(associations, epsilon=1e-8):\n",
    "    # COORDINATES OF THE INTERSECTION BOXES\n",
    "    x1 = associations[['x0_prior', 'x0_gt']].max(axis=1)\n",
    "    y1 = associations[['y0_prior', 'y0_gt']].max(axis=1)\n",
    "    x2 = associations[['x1_prior', 'y1_gt']].min(axis=1)\n",
    "    y2 = associations[['y1_prior', 'y1_gt']].min(axis=1)\n",
    "\n",
    "    # AREAS OF OVERLAP - Area where the boxes intersect\n",
    "    width = (x2 - x1)\n",
    "    height = (y2 - y1)\n",
    "\n",
    "    # handle case where there is NO overlap\n",
    "    width[width < 0] = 0\n",
    "    height[height < 0] = 0\n",
    "\n",
    "    area_overlap = width * height\n",
    "\n",
    "    # COMBINED AREAS\n",
    "    area_a = (associations['x1_prior'] - associations['x0_prior']) * (associations['y1_prior'] - associations['y0_prior'])\n",
    "    area_b = (associations['x1_gt'] - associations['x0_gt']) * (associations['y1_gt'] - associations['y0_gt'])\n",
    "    area_combined = area_a + area_b - area_overlap\n",
    "\n",
    "    # RATIO OF AREA OF OVERLAP OVER COMBINED AREA\n",
    "    iou = area_overlap / (area_combined + epsilon)\n",
    "    return iou"
   ]
  },
  {
   "cell_type": "markdown",
   "metadata": {},
   "source": [
    "## Generate boxes"
   ]
  },
  {
   "cell_type": "code",
   "execution_count": 46,
   "metadata": {},
   "outputs": [],
   "source": [
    "#priors = np.random.random_sample((NUM_PRIORS, 4))\n",
    "#gts = np.random.sample((NUM_GT, 4))\n",
    "\n",
    "priors_arr = np.array([[1.0, 1.0, 2.0, 2.0], [2.0, 2.0, 3.0, 3.0], [0.0, 0.0, 2.0, 1.5]])\n",
    "gts_arr = np.array([[0.0, 0.0, 2.0, 2.0]])\n",
    "\n",
    "priors = pd.DataFrame(priors_arr, columns=['x0', 'y0', 'x1', 'y1'])\n",
    "priors['prior_id'] = range(len(priors))\n",
    "priors['temp'] = True\n",
    "\n",
    "gts = pd.DataFrame(gts_arr, columns=['x0', 'y0', 'x1', 'y1'])\n",
    "gts['gt_id'] = range(len(gts))\n",
    "gts['temp'] = True\n",
    "\n"
   ]
  },
  {
   "cell_type": "code",
   "execution_count": 47,
   "metadata": {},
   "outputs": [
    {
     "name": "stdout",
     "output_type": "stream",
     "text": [
      "0    4.0\n",
      "1    5.0\n",
      "2    4.0\n",
      "dtype: float64\n"
     ]
    },
    {
     "data": {
      "text/plain": [
       "0    0.25\n",
       "1    0.00\n",
       "2    0.75\n",
       "dtype: float64"
      ]
     },
     "execution_count": 47,
     "metadata": {},
     "output_type": "execute_result"
    }
   ],
   "source": [
    "associations = pd.merge(priors, gts, how='outer', suffixes=('_prior', '_gt'), on='temp')\n",
    "associations = associations.drop(columns=['temp'])\n",
    "iou(associations)"
   ]
  },
  {
   "cell_type": "code",
   "execution_count": null,
   "metadata": {},
   "outputs": [],
   "source": []
  }
 ],
 "metadata": {
  "kernelspec": {
   "display_name": "Python 3",
   "language": "python",
   "name": "python3"
  },
  "language_info": {
   "codemirror_mode": {
    "name": "ipython",
    "version": 3
   },
   "file_extension": ".py",
   "mimetype": "text/x-python",
   "name": "python",
   "nbconvert_exporter": "python",
   "pygments_lexer": "ipython3",
   "version": "3.7.1"
  }
 },
 "nbformat": 4,
 "nbformat_minor": 2
}
