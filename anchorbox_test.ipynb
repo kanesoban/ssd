{
 "cells": [
  {
   "cell_type": "markdown",
   "metadata": {},
   "source": [
    "# Anchorbox test\n",
    "\n",
    "Create anchorboxes for a 300x300 image, and visualize them"
   ]
  },
  {
   "cell_type": "markdown",
   "metadata": {},
   "source": [
    "## Imports"
   ]
  },
  {
   "cell_type": "code",
   "execution_count": 5,
   "metadata": {},
   "outputs": [],
   "source": [
    "import pandas as pd\n",
    "import numpy as np\n",
    "import cv2\n",
    "np.random.seed(seed=0)\n",
    "\n",
    "from utils import iou"
   ]
  },
  {
   "cell_type": "markdown",
   "metadata": {},
   "source": [
    "## Constants"
   ]
  },
  {
   "cell_type": "code",
   "execution_count": 3,
   "metadata": {},
   "outputs": [],
   "source": [
    "ASPECT_RATIOS = [1.0, 2.0, 3.0, 1.0/2, 1.0/3]\n",
    "MAX_SCALE = 0.9\n",
    "MIN_SCALE = 0.2\n",
    "NUM_SCALES = 6\n",
    "IMG_SIZE = 300\n",
    "IMG_PATH = '../image/sample.png'"
   ]
  },
  {
   "cell_type": "markdown",
   "metadata": {},
   "source": [
    "## Load, rescale image"
   ]
  },
  {
   "cell_type": "code",
   "execution_count": 4,
   "metadata": {},
   "outputs": [
    {
     "ename": "error",
     "evalue": "/io/opencv/modules/imgproc/src/imgwarp.cpp:3492: error: (-215) ssize.width > 0 && ssize.height > 0 in function resize\n",
     "output_type": "error",
     "traceback": [
      "\u001b[0;31m---------------------------------------------------------------------------\u001b[0m",
      "\u001b[0;31merror\u001b[0m                                     Traceback (most recent call last)",
      "\u001b[0;32m<ipython-input-4-0ab5d7c42219>\u001b[0m in \u001b[0;36m<module>\u001b[0;34m()\u001b[0m\n\u001b[1;32m      1\u001b[0m \u001b[0mimg\u001b[0m \u001b[0;34m=\u001b[0m \u001b[0mcv2\u001b[0m\u001b[0;34m.\u001b[0m\u001b[0mimread\u001b[0m\u001b[0;34m(\u001b[0m\u001b[0mIMG_PATH\u001b[0m\u001b[0;34m)\u001b[0m\u001b[0;34m\u001b[0m\u001b[0m\n\u001b[0;32m----> 2\u001b[0;31m \u001b[0mimg\u001b[0m \u001b[0;34m=\u001b[0m \u001b[0mcv2\u001b[0m\u001b[0;34m.\u001b[0m\u001b[0mresize\u001b[0m\u001b[0;34m(\u001b[0m\u001b[0mimg\u001b[0m\u001b[0;34m,\u001b[0m \u001b[0;34m(\u001b[0m\u001b[0mIMG_SIZE\u001b[0m\u001b[0;34m,\u001b[0m \u001b[0mIMG_SIZE\u001b[0m\u001b[0;34m)\u001b[0m\u001b[0;34m,\u001b[0m \u001b[0minterpolation\u001b[0m \u001b[0;34m=\u001b[0m \u001b[0mcv2\u001b[0m\u001b[0;34m.\u001b[0m\u001b[0mINTER_CUBIC\u001b[0m\u001b[0;34m)\u001b[0m\u001b[0;34m\u001b[0m\u001b[0m\n\u001b[0m",
      "\u001b[0;31merror\u001b[0m: /io/opencv/modules/imgproc/src/imgwarp.cpp:3492: error: (-215) ssize.width > 0 && ssize.height > 0 in function resize\n"
     ]
    }
   ],
   "source": [
    "img = cv2.imread(IMG_PATH)\n",
    "img = cv2.resize(img, (IMG_SIZE, IMG_SIZE), interpolation = cv2.INTER_CUBIC)"
   ]
  },
  {
   "cell_type": "markdown",
   "metadata": {},
   "source": [
    "## Create anchorboxes"
   ]
  },
  {
   "cell_type": "code",
   "execution_count": 11,
   "metadata": {},
   "outputs": [],
   "source": [
    "def create_scales(s_min, s_max, num_scales):\n",
    "    scales = []\n",
    "    for k in range(1, num_scales+1):\n",
    "        scales.append(s_min + (s_max - s_min) / (num_scales - 1) * (k-1))\n",
    "    return scales\n",
    "\n",
    "def create_anchors(img_size, s_min=0.2, s_max=0.9, num_scales=6, aspect_ratios=[1.0, 2.0, 3.0, 1.0/2, 1.0/3]):\n",
    "    anchors = []\n",
    "    for scale in create_scales(s_min, s_max, num_scales):\n",
    "        feature_map_width = int(img_size * scale)\n",
    "        feature_map_size = np.power(feature_map_width, 2)\n",
    "        for i in range(feature_map_width):\n",
    "            for j in range(feature_map_width):\n",
    "                for aspect_ratio in aspect_ratios:\n",
    "                    box_width = scale * np.sqrt(aspect_ratio)\n",
    "                    box_height = scale / np.sqrt(aspect_ratio)\n",
    "                    center = ((i + 0.5)/feature_map_size, (j + 0.5)/feature_map_size)\n",
    "                    upper_left = (center[0] - box_width, center[0] - box_height)\n",
    "                    lower_right = (center[0] + box_width, center[0] + box_height)\n",
    "                    anchors.append(np.array([upper_left[0], upper_left[1], lower_right[0], lower_right[1]]))\n",
    "                # TODO: +1 aspect ratio\n",
    "    return np.array(anchors)"
   ]
  },
  {
   "cell_type": "code",
   "execution_count": 12,
   "metadata": {},
   "outputs": [],
   "source": [
    "anchors = create_anchors(IMG_SIZE)"
   ]
  },
  {
   "cell_type": "code",
   "execution_count": null,
   "metadata": {},
   "outputs": [],
   "source": []
  }
 ],
 "metadata": {
  "kernelspec": {
   "display_name": "FP",
   "language": "python",
   "name": "fp"
  },
  "language_info": {
   "codemirror_mode": {
    "name": "ipython",
    "version": 3
   },
   "file_extension": ".py",
   "mimetype": "text/x-python",
   "name": "python",
   "nbconvert_exporter": "python",
   "pygments_lexer": "ipython3",
   "version": "3.5.4"
  }
 },
 "nbformat": 4,
 "nbformat_minor": 2
}
